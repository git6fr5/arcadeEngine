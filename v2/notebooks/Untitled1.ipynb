{
 "cells": [
  {
   "cell_type": "code",
   "execution_count": 8,
   "id": "500683b4",
   "metadata": {},
   "outputs": [],
   "source": [
    "// wsl\n",
    "// conda activate cling\n",
    "// jupyter notebook\n",
    "// copy and paste url"
   ]
  },
  {
   "cell_type": "code",
   "execution_count": 9,
   "id": "a38d56ec",
   "metadata": {},
   "outputs": [],
   "source": [
    "#include <iostream>\n",
    "#include <stdio.h>\n",
    "using namespace std;"
   ]
  },
  {
   "cell_type": "code",
   "execution_count": 10,
   "id": "1fd720a8",
   "metadata": {},
   "outputs": [],
   "source": [
    "\n",
    "class Vector {\n",
    "    public:\n",
    "        float x = 0;\n",
    "        float y = 0;\n",
    "    \n",
    "        Vector(float _x = 0, float _y = 0){\n",
    "            x = _x;\n",
    "            y = _y;\n",
    "        }\n",
    "\n",
    "        // Operator overloads.\n",
    "\n",
    "        // Addition increment operator\n",
    "\t\tVector& operator +=(const Vector& vector) {                           \n",
    "\t\t\tx = x + vector.x;\n",
    "\t\t\ty = y + vector.y;\n",
    "\t\t\treturn *this;\n",
    "\t\t}\n",
    "\n",
    "\t\t// Addition operator\n",
    "\t\tfriend Vector operator +(Vector vectorA, const Vector& vectorB) {\n",
    "\t\t\tvectorA += vectorB;\n",
    "\t\t\treturn vectorA;\n",
    "\t\t}\n",
    "\n",
    "\t\t// Addition operator\n",
    "\t\tVector& operator *=(const float scalar) {\n",
    "\t\t\tx *= scalar;\n",
    "\t\t\ty *= scalar;\n",
    "\t\t\treturn *this;\n",
    "\t\t}\n",
    "\n",
    "\t\t// Addition operator\n",
    "\t\tfriend Vector operator *(Vector vector, const float scalar) {\n",
    "\t\t\tvector *= scalar;\n",
    "\t\t\treturn vector;\n",
    "\t\t}\n",
    "\n",
    "\t\tstring ToString() {\n",
    "\t\t\treturn \"(\" + to_string(x).substr(0, 4) + \", \" + to_string(y).substr(0, 4) + \")\";\n",
    "\t\t}\n",
    "\n",
    "};"
   ]
  },
  {
   "cell_type": "code",
   "execution_count": 32,
   "id": "2898e9d1",
   "metadata": {},
   "outputs": [],
   "source": [
    "class  Joint {\n",
    "    public:\n",
    "        string name;\n",
    "        float m_Length;\n",
    "        float m_Angle;\n",
    "        Joint* m_Children[16];\n",
    "        int m_ChildrenCount = 0;\n",
    "        Vector m_Vertices[4096];\n",
    "        \n",
    "        Joint(string _name = \"\", float length = 0, float angle = 0) {\n",
    "            name = _name;\n",
    "            m_Length = length;\n",
    "            m_Angle = angle;\n",
    "        };\n",
    "\n",
    "        // Operates on the assumption that we aren't going to add more than 4 children.\n",
    "        Joint* AddChild(string _name, float length, float angle) {\n",
    "            m_Children[m_ChildrenCount] = new Joint{ _name, length, angle };\n",
    "            m_ChildrenCount++;\n",
    "            return m_Children[m_ChildrenCount - 1];\n",
    "        }\n",
    "\n",
    "        Joint* AddChild(string _name, Joint joint) {\n",
    "            // Creates a new variable at this address.\n",
    "            m_Children[m_ChildrenCount] = new Joint{ };\n",
    "            // Copies the values of the passed in local variable to the appropriate address.\n",
    "            Joint* newJoint = m_Children[m_ChildrenCount];\n",
    "            memcpy(newJoint, &joint, sizeof(joint));\n",
    "            newJoint->name = _name;\n",
    "            m_ChildrenCount++;\n",
    "            return m_Children[m_ChildrenCount - 1];\n",
    "        }\n",
    "\n",
    "        void PrintHierarchy(int depth = 0) {\n",
    "            for (int i = 0; i < depth + 1; i++) {\n",
    "                cout << \"-->\";\n",
    "            }\n",
    "            cout << \"  \" << name << \" : \" << to_string(m_Length) << \" : \" << to_string(m_Angle) << \"\\n\\n\";\n",
    "            for (int i = 0; i < m_ChildrenCount; i++) {\n",
    "                m_Children[i]->PrintHierarchy(depth + 1);\n",
    "            }\n",
    "        }\n",
    "    \n",
    "    void UpdateVertices(Vector vertices[], int* vertexCount, Vector origin = Vector{}) {\n",
    "            \n",
    "            cout << *vertexCount;\n",
    "            Vector vertex = GetVertex(origin);\n",
    "            vertices[*vertexCount] = vertex;\n",
    "            (*vertexCount)++;\n",
    "            for (int i = 0; i < m_ChildrenCount; i++) {\n",
    "                m_Children[i]->UpdateVertices(vertices, vertexCount, vertex);\n",
    "            }\n",
    "        }\n",
    "\n",
    "        Vector GetVertex(Vector origin) {\n",
    "            float angle = m_Angle / 180 * M_PI;\n",
    "            Vector vertex = origin + Vector{ m_Length * cos(angle), m_Length * sin(angle) };\n",
    "            cout << \"  \" << name << \" : \" << vertex.ToString() << \"\\n\\n\";\n",
    "            return vertex;\n",
    "        }\n",
    "};"
   ]
  },
  {
   "cell_type": "code",
   "execution_count": 33,
   "id": "d484cce6",
   "metadata": {},
   "outputs": [],
   "source": [
    "class Skeleton {\n",
    "    public:\n",
    "        static Joint Shoulder(bool isMirrored = false) {\n",
    "            // Flip should\n",
    "            string suffix = \".l\";\n",
    "            if (isMirrored) { \n",
    "                suffix = \".r\"; \n",
    "            }\n",
    "            Joint shoulder = Joint{ \"shoulder\" + suffix, 1, (float)isMirrored * 180 };\n",
    "\n",
    "            Joint* elbow = shoulder.AddChild(\"elbow\" + suffix, 1, (float)isMirrored * 180);\n",
    "            (*elbow).AddChild(\"wrist\" + suffix, 1, (float)isMirrored * 180);\n",
    "\n",
    "            return shoulder;\n",
    "        }\n",
    "\n",
    "        static Joint Spine() {\n",
    "            Joint spine = Joint{ \"spine\", 1, 90 };\n",
    "            Joint* torso = spine.AddChild(\"torso\", 1, 90);\n",
    "            Joint* neck = torso->AddChild(\"neck\", 1, 90);\n",
    "            Joint shoulder_l = Skeleton::Shoulder();\n",
    "            Joint shoulder_r = Skeleton::Shoulder(true);\n",
    "            neck->AddChild(\"shoulder_l\", shoulder_l);\n",
    "            neck->AddChild(\"shoulder_r\", shoulder_r);\n",
    "            return spine;\n",
    "        }\n",
    "};"
   ]
  },
  {
   "cell_type": "code",
   "execution_count": 34,
   "id": "f23bb39b",
   "metadata": {},
   "outputs": [
    {
     "name": "stdout",
     "output_type": "stream",
     "text": [
      "-->  spine : 1.000000 : 90.000000\n",
      "\n",
      "-->-->  torso : 1.000000 : 90.000000\n",
      "\n",
      "-->-->-->  neck : 1.000000 : 90.000000\n",
      "\n",
      "-->-->-->-->  shoulder_l : 1.000000 : 0.000000\n",
      "\n",
      "-->-->-->-->-->  elbow.l : 1.000000 : 0.000000\n",
      "\n",
      "-->-->-->-->-->-->  wrist.l : 1.000000 : 0.000000\n",
      "\n",
      "-->-->-->-->  shoulder_r : 1.000000 : 180.000000\n",
      "\n",
      "-->-->-->-->-->  elbow.r : 1.000000 : 180.000000\n",
      "\n",
      "-->-->-->-->-->-->  wrist.r : 1.000000 : 180.000000\n",
      "\n",
      "0  spine : (-0.0, 1.00)\n",
      "\n",
      "1  torso : (-0.0, 2.00)\n",
      "\n",
      "2  neck : (-0.0, 3.00)\n",
      "\n",
      "3  shoulder_l : (1.00, 3.00)\n",
      "\n",
      "4  elbow.l : (2.00, 3.00)\n",
      "\n",
      "5  wrist.l : (3.00, 3.00)\n",
      "\n",
      "6  shoulder_r : (-1.0, 3.00)\n",
      "\n",
      "7  elbow.r : (-2.0, 3.00)\n",
      "\n",
      "8  wrist.r : (-3.0, 3.00)\n",
      "\n"
     ]
    }
   ],
   "source": [
    "Joint spine = Skeleton::Spine();\n",
    "spine.PrintHierarchy();\n",
    "int vertexCount = 0;\n",
    "spine.UpdateVertices(spine.m_Vertices, &vertexCount);\n"
   ]
  },
  {
   "cell_type": "code",
   "execution_count": 7,
   "id": "81d8d55f",
   "metadata": {},
   "outputs": [
    {
     "name": "stdout",
     "output_type": "stream",
     "text": [
      "1"
     ]
    }
   ],
   "source": [
    "cout << 1;"
   ]
  },
  {
   "cell_type": "code",
   "execution_count": 36,
   "id": "fad3ac9e",
   "metadata": {},
   "outputs": [
    {
     "name": "stdout",
     "output_type": "stream",
     "text": [
      "67469312"
     ]
    }
   ],
   "source": [
    "cout << sizeof(spine) * 2048;"
   ]
  },
  {
   "cell_type": "code",
   "execution_count": null,
   "id": "ab6dee64",
   "metadata": {},
   "outputs": [],
   "source": []
  }
 ],
 "metadata": {
  "kernelspec": {
   "display_name": "C++11",
   "language": "C++11",
   "name": "xcpp11"
  },
  "language_info": {
   "codemirror_mode": "text/x-c++src",
   "file_extension": ".cpp",
   "mimetype": "text/x-c++src",
   "name": "c++",
   "version": "11"
  }
 },
 "nbformat": 4,
 "nbformat_minor": 5
}
