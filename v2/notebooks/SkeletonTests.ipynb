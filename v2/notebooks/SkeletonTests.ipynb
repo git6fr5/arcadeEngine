{
 "cells": [
  {
   "cell_type": "code",
   "execution_count": 1,
   "id": "46174e4d",
   "metadata": {},
   "outputs": [],
   "source": [
    "// wsl\n",
    "// conda activate cling\n",
    "// jupyter notebook\n",
    "// copy and paste url"
   ]
  },
  {
   "cell_type": "code",
   "execution_count": 2,
   "id": "7d9a8c05",
   "metadata": {},
   "outputs": [],
   "source": [
    "#include <iostream>\n",
    "using namespace std;"
   ]
  },
  {
   "cell_type": "code",
   "execution_count": 3,
   "id": "b5428f5b",
   "metadata": {},
   "outputs": [],
   "source": [
    "struct  Joint {\n",
    "    string name;\n",
    "    Joint* m_Children[16];\n",
    "    int m_ChildrenCount = 0;\n",
    "    \n",
    "    Joint(string _name) {\n",
    "        name = _name;\n",
    "    };\n",
    "\n",
    "    void AddChild(Joint joint) {\n",
    "        if (m_ChildrenCount < sizeof(m_Children)/sizeof(m_Children[0])) {\n",
    "            m_Children[m_ChildrenCount] = &(*joint);\n",
    "            m_ChildrenCount++;\n",
    "        }\n",
    "    }\n",
    "};"
   ]
  },
  {
   "cell_type": "code",
   "execution_count": 15,
   "id": "1ebbe64a",
   "metadata": {},
   "outputs": [],
   "source": [
    "class Skeleton {\n",
    "    public:\n",
    "        static Joint Shoulder() {\n",
    "            Joint wrist = Joint{\"wrist\"};\n",
    "            Joint elbow = Joint{\"elbow\"};\n",
    "            Joint shoulder = Joint{\"shoulder\"};\n",
    "            \n",
    "            elbow.AddChild(&wrist);\n",
    "            shoulder.AddChild(&elbow);\n",
    "\n",
    "            return shoulder;\n",
    "        }\n",
    "};"
   ]
  },
  {
   "cell_type": "code",
   "execution_count": 17,
   "id": "a7da06e6",
   "metadata": {},
   "outputs": [],
   "source": [
    "Joint shoulder = Skeleton::Shoulder();\n",
    "cout << shoulder.name;\n",
    "cout << (*shoulder.m_Children[0]).name;"
   ]
  },
  {
   "cell_type": "code",
   "execution_count": null,
   "id": "f7c96ec7",
   "metadata": {},
   "outputs": [],
   "source": []
  },
  {
   "cell_type": "code",
   "execution_count": null,
   "id": "dd0c4560",
   "metadata": {},
   "outputs": [],
   "source": []
  }
 ],
 "metadata": {
  "kernelspec": {
   "display_name": "C++11",
   "language": "C++11",
   "name": "xcpp11"
  },
  "language_info": {
   "codemirror_mode": "text/x-c++src",
   "file_extension": ".cpp",
   "mimetype": "text/x-c++src",
   "name": "c++",
   "version": "11"
  }
 },
 "nbformat": 4,
 "nbformat_minor": 5
}
