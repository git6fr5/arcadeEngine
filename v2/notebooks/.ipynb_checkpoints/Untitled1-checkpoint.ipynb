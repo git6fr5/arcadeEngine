{
 "cells": [
  {
   "cell_type": "code",
   "execution_count": 23,
   "id": "500683b4",
   "metadata": {},
   "outputs": [],
   "source": [
    "// wsl\n",
    "// conda activate cling\n",
    "// jupyter notebook\n",
    "// copy and paste url"
   ]
  },
  {
   "cell_type": "code",
   "execution_count": 28,
   "id": "a38d56ec",
   "metadata": {},
   "outputs": [],
   "source": [
    "#include <iostream>\n",
    "#include <stdio.h>\n",
    "using namespace std;"
   ]
  },
  {
   "cell_type": "code",
   "execution_count": 29,
   "id": "2898e9d1",
   "metadata": {},
   "outputs": [],
   "source": [
    "struct  Joint {\n",
    "    string name;\n",
    "    Joint* m_Children[16];\n",
    "    int m_ChildrenCount = 0;\n",
    "    \n",
    "    Joint(string _name) {\n",
    "        name = _name;\n",
    "    };\n",
    "\n",
    "    // Operates on the assumption that we aren't going to add more than 16 children.\n",
    "    Joint* AddChild(string name) {\n",
    "        m_Children[m_ChildrenCount] = new Joint{name};\n",
    "        m_ChildrenCount++;\n",
    "        return m_Children[m_ChildrenCount - 1];\n",
    "    }\n",
    "    \n",
    "    Joint* AddChild(Joint joint) {\n",
    "        // Creates a new variable at this address.\n",
    "        m_Children[m_ChildrenCount] = new Joint{name};\n",
    "        // Copies the values of the passed in local variable to the appropriate address.\n",
    "        Joint* _joint = m_Children[m_ChildrenCount];\n",
    "        memcpy(_joint, &joint, sizeof(joint));\n",
    "        m_ChildrenCount++;\n",
    "        return m_Children[m_ChildrenCount - 1];\n",
    "    }\n",
    "    \n",
    "    void PrintHierarchy(int depth = 0) {\n",
    "        for (int i = 0; i < depth + 1; i++) {\n",
    "            cout << \">>\";\n",
    "        }\n",
    "        cout << ' ' << name << '\\n';\n",
    "        for (int i = 0; i < m_ChildrenCount; i++) {\n",
    "            m_Children[i]->PrintHierarchy(depth+1);\n",
    "        }\n",
    "    }\n",
    "};"
   ]
  },
  {
   "cell_type": "code",
   "execution_count": 34,
   "id": "d484cce6",
   "metadata": {},
   "outputs": [],
   "source": [
    "class Skeleton {\n",
    "    public:\n",
    "        static Joint Shoulder() {\n",
    "            Joint shoulder = Joint{\"shoulder\"};\n",
    "            \n",
    "            Joint* elbow = shoulder.AddChild(\"elbow\");\n",
    "            (*elbow).AddChild(\"wrist\");\n",
    "\n",
    "            return shoulder;\n",
    "        }\n",
    "    \n",
    "        static Joint Spine() {\n",
    "            Joint spine = Joint{\"spine\"};\n",
    "            Joint* torso = spine.AddChild(\"torso\");\n",
    "            Joint* neck = torso->AddChild(\"neck\");\n",
    "            Joint shoulder_l = Skeleton::Shoulder();\n",
    "            shoulder_l.name = \"shoulder.l\";\n",
    "            Joint shoulder_r = Skeleton::Shoulder();\n",
    "            shoulder_r.name = \"shoulder.r\";\n",
    "            neck->AddChild(shoulder_l);\n",
    "            neck->AddChild(shoulder_r);\n",
    "            return spine;\n",
    "        }\n",
    "};"
   ]
  },
  {
   "cell_type": "code",
   "execution_count": 39,
   "id": "f23bb39b",
   "metadata": {},
   "outputs": [],
   "source": [
    "Joint spine = Skeleton::Spine();\n",
    "spine.PrintHierarchy();"
   ]
  },
  {
   "cell_type": "code",
   "execution_count": 33,
   "id": "81d8d55f",
   "metadata": {},
   "outputs": [],
   "source": [
    "cout << 1;"
   ]
  },
  {
   "cell_type": "code",
   "execution_count": null,
   "id": "fad3ac9e",
   "metadata": {},
   "outputs": [],
   "source": []
  },
  {
   "cell_type": "code",
   "execution_count": null,
   "id": "ab6dee64",
   "metadata": {},
   "outputs": [],
   "source": []
  }
 ],
 "metadata": {
  "kernelspec": {
   "display_name": "C++14",
   "language": "C++14",
   "name": "xcpp14"
  },
  "language_info": {
   "codemirror_mode": "text/x-c++src",
   "file_extension": ".cpp",
   "mimetype": "text/x-c++src",
   "name": "c++",
   "version": "14"
  }
 },
 "nbformat": 4,
 "nbformat_minor": 5
}
